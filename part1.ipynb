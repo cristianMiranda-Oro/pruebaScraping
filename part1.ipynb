{
 "cells": [
  {
   "cell_type": "code",
   "execution_count": null,
   "id": "d38685e8",
   "metadata": {},
   "outputs": [],
   "source": [
    "!pip install selenium\n",
    "!pip install beautifulsoup4"
   ]
  },
  {
   "cell_type": "code",
   "execution_count": 2,
   "id": "21635228",
   "metadata": {},
   "outputs": [
    {
     "ename": "ModuleNotFoundError",
     "evalue": "No module named 'selenium'",
     "output_type": "error",
     "traceback": [
      "\u001b[1;31m---------------------------------------------------------------------------\u001b[0m",
      "\u001b[1;31mModuleNotFoundError\u001b[0m                       Traceback (most recent call last)",
      "\u001b[1;32m<ipython-input-2-4a67b84f185b>\u001b[0m in \u001b[0;36m<module>\u001b[1;34m\u001b[0m\n\u001b[0;32m      1\u001b[0m \u001b[1;32mimport\u001b[0m \u001b[0mos\u001b[0m\u001b[1;33m,\u001b[0m \u001b[0mrandom\u001b[0m\u001b[1;33m,\u001b[0m \u001b[0msys\u001b[0m\u001b[1;33m,\u001b[0m \u001b[0mtime\u001b[0m\u001b[1;33m\u001b[0m\u001b[1;33m\u001b[0m\u001b[0m\n\u001b[0;32m      2\u001b[0m \u001b[1;32mfrom\u001b[0m \u001b[0murllib\u001b[0m\u001b[1;33m.\u001b[0m\u001b[0mparse\u001b[0m \u001b[1;32mimport\u001b[0m \u001b[0murlparse\u001b[0m\u001b[1;33m\u001b[0m\u001b[1;33m\u001b[0m\u001b[0m\n\u001b[1;32m----> 3\u001b[1;33m \u001b[1;32mfrom\u001b[0m \u001b[0mselenium\u001b[0m \u001b[1;32mimport\u001b[0m \u001b[0mwebdriver\u001b[0m\u001b[1;33m\u001b[0m\u001b[1;33m\u001b[0m\u001b[0m\n\u001b[0m\u001b[0;32m      4\u001b[0m \u001b[1;32mfrom\u001b[0m \u001b[0mbs4\u001b[0m \u001b[1;32mimport\u001b[0m \u001b[0mBeautifulSoup\u001b[0m\u001b[1;33m\u001b[0m\u001b[1;33m\u001b[0m\u001b[0m\n",
      "\u001b[1;31mModuleNotFoundError\u001b[0m: No module named 'selenium'"
     ]
    }
   ],
   "source": [
    "import os, random, sys, time\n",
    "from urllib.parse import urlparse\n",
    "from selenium import webdriver\n",
    "from bs4 import BeautifulSoup"
   ]
  },
  {
   "cell_type": "code",
   "execution_count": null,
   "id": "00dbc954",
   "metadata": {},
   "outputs": [
    {
     "name": "stderr",
     "output_type": "stream",
     "text": [
      "C:\\Users\\CRISTI~1\\AppData\\Local\\Temp/ipykernel_6836/1672999331.py:1: DeprecationWarning: executable_path has been deprecated, please pass in a Service object\n",
      "  browser = webdriver.Chrome('driver/chromedriver.exe')\n"
     ]
    }
   ],
   "source": [
    "browser = webdriver.Chrome('driver/chromedriver.exe')"
   ]
  },
  {
   "cell_type": "code",
   "execution_count": null,
   "id": "e6fc78e4",
   "metadata": {},
   "outputs": [],
   "source": [
    "browser.get('https://www.linkedin.com/login/')"
   ]
  },
  {
   "cell_type": "code",
   "execution_count": null,
   "id": "32df3b6f",
   "metadata": {},
   "outputs": [],
   "source": [
    "file = open('config.txt')\n",
    "lines = file.readlines()\n",
    "username = lines[0]\n",
    "password = lines[1]\n",
    "file.close()"
   ]
  },
  {
   "cell_type": "code",
   "execution_count": null,
   "id": "a5c6f27b",
   "metadata": {},
   "outputs": [
    {
     "name": "stderr",
     "output_type": "stream",
     "text": [
      "C:\\Users\\CRISTI~1\\AppData\\Local\\Temp/ipykernel_6836/2542313311.py:1: DeprecationWarning: find_element_by_* commands are deprecated. Please use find_element() instead\n",
      "  elementID = browser.find_element_by_id('username')\n"
     ]
    }
   ],
   "source": [
    "elementID = browser.find_element_by_id('username')\n",
    "elementID.send_keys(username)"
   ]
  },
  {
   "cell_type": "code",
   "execution_count": null,
   "id": "097e0061",
   "metadata": {},
   "outputs": [
    {
     "name": "stderr",
     "output_type": "stream",
     "text": [
      "C:\\Users\\CRISTI~1\\AppData\\Local\\Temp/ipykernel_6836/2068198166.py:1: DeprecationWarning: find_element_by_* commands are deprecated. Please use find_element() instead\n",
      "  elementID = browser.find_element_by_id('password')\n"
     ]
    }
   ],
   "source": [
    "elementID = browser.find_element_by_id('password')\n",
    "elementID.send_keys(password)"
   ]
  },
  {
   "cell_type": "code",
   "execution_count": null,
   "id": "dd9af14c",
   "metadata": {},
   "outputs": [],
   "source": [
    "elementID.submit()"
   ]
  },
  {
   "cell_type": "code",
   "execution_count": null,
   "id": "16687fd6",
   "metadata": {},
   "outputs": [],
   "source": [
    "visitingProfileID = \"/in/cristian-miranda-0948a4189/\"\n",
    "fulllink = \"https://www.linkedin.com\"+visitingProfileID\n",
    "browser.get(fulllink)"
   ]
  },
  {
   "cell_type": "code",
   "execution_count": null,
   "id": "b2d9bf8c",
   "metadata": {},
   "outputs": [],
   "source": [
    "visitedProfiles = []\n",
    "profilesQueued = []"
   ]
  },
  {
   "cell_type": "code",
   "execution_count": null,
   "id": "b546136e",
   "metadata": {},
   "outputs": [],
   "source": [
    "def getNewProfileIDs(soup, profilesQueued):\n",
    "    profilesID = []\n",
    "    pav = soup.find('ul', {'class' : 'browsemap'})\n",
    "    all_links = pav.findAll('a', {'class':'ember-view pv-browsemap-section__member align-items-center'})\n",
    "       \n",
    "    for link in all_links:\n",
    "        userID = link.get('href')\n",
    "        if( (userID not in profilesQueued) and (userID not in visitedProfiles) ):\n",
    "            profilesID.append(userID)\n",
    "    return profilesID\n",
    "        "
   ]
  },
  {
   "cell_type": "code",
   "execution_count": null,
   "id": "5d166400",
   "metadata": {},
   "outputs": [
    {
     "data": {
      "text/plain": [
       "['/in/jhon-pabon-1665b7170/',\n",
       " '/in/mayra-alejandra-parada-pe%C3%B1aloza-315233175/',\n",
       " '/in/elianafiallo/',\n",
       " '/in/david-mendez-3b1363130/',\n",
       " '/in/tatiana-suarez-bar%C3%B3n-95a133207/']"
      ]
     },
     "execution_count": 24,
     "metadata": {},
     "output_type": "execute_result"
    }
   ],
   "source": [
    "getNewProfileIDs(BeautifulSoup(browser.page_source), profilesQueued)"
   ]
  },
  {
   "cell_type": "code",
   "execution_count": null,
   "id": "d5a246a5",
   "metadata": {},
   "outputs": [],
   "source": []
  }
 ],
 "metadata": {
  "kernelspec": {
   "display_name": "Python 3 (ipykernel)",
   "language": "python",
   "name": "python3"
  },
  "language_info": {
   "codemirror_mode": {
    "name": "ipython",
    "version": 3
   },
   "file_extension": ".py",
   "mimetype": "text/x-python",
   "name": "python",
   "nbconvert_exporter": "python",
   "pygments_lexer": "ipython3",
   "version": "3.8.8"
  }
 },
 "nbformat": 4,
 "nbformat_minor": 5
}
